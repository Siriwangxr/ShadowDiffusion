{
 "cells": [
  {
   "cell_type": "code",
   "execution_count": 8,
   "id": "initial_id",
   "metadata": {
    "collapsed": true,
    "ExecuteTime": {
     "end_time": "2024-04-19T08:08:54.447389713Z",
     "start_time": "2024-04-19T08:08:54.400381563Z"
    }
   },
   "outputs": [],
   "source": [
    "import os\n",
    "\n",
    "def compare_image_names(dir1, dir2):\n",
    "    # Get the list of image names in each directory\n",
    "    images1 = set(os.path.splitext(image)[0] for image in os.listdir(dir1))\n",
    "    images2 = set(os.path.splitext(image)[0] for image in os.listdir(dir2))\n",
    "\n",
    "    # Find the different image names\n",
    "    different_images = images1.symmetric_difference(images2)\n",
    "    count = len(different_images)\n",
    "\n",
    "    # Print the different image names\n",
    "    if different_images:\n",
    "        print(f\"Found {count} different image names:\")\n",
    "        for image in different_images:\n",
    "            print(image)\n",
    "    else:\n",
    "        print(\"No differences found in image names.\")"
   ]
  },
  {
   "cell_type": "code",
   "outputs": [],
   "source": [
    "test_A_dir = \"dataset/SRD_DHAN_mask_B/test/test_A\"\n",
    "test_B_dir = \"dataset/SRD_DHAN_mask_B/test/test_B\"\n",
    "test_C_dir = \"dataset/SRD_DHAN_mask_B/test/test_C\"\n",
    "train_A_dir = \"dataset/SRD_DHAN_mask_B/train/train_A\"\n",
    "train_B_dir = \"dataset/SRD_DHAN_mask_B/train/train_B\"\n",
    "train_C_dir = \"dataset/SRD_DHAN_mask_B/train/train_C\"\n"
   ],
   "metadata": {
    "collapsed": false,
    "ExecuteTime": {
     "end_time": "2024-04-19T08:11:48.408779151Z",
     "start_time": "2024-04-19T08:11:48.348019633Z"
    }
   },
   "id": "935792e23d3c4980",
   "execution_count": 13
  },
  {
   "cell_type": "code",
   "outputs": [
    {
     "name": "stdout",
     "output_type": "stream",
     "text": [
      "Found 30 different image names:\n",
      "IMG_6669\n",
      "IMG_6308\n",
      "_MG_3956\n",
      "DSCF0447\n",
      "IMG_6307\n",
      "_MG_3118\n",
      "IMG_6640\n",
      "_MG_3652\n",
      "DSCF0466\n",
      "_MG_3299\n",
      "_MG_4124\n",
      "IMG_6940\n",
      "IMG_6493\n",
      "DSCF0288\n",
      "IMG_6661\n",
      "DSCF0529\n",
      "IMG_6579\n",
      "_MG_3254\n",
      "_MG_2925\n",
      "IMG_6304\n",
      "IMG_6466\n",
      "DSCF0456\n",
      "DSCF0211\n",
      "_MG_4294\n",
      "_MG_4390\n",
      "DSCF0463\n",
      "DSCF0519\n",
      "_MG_4710\n",
      "_MG_4110\n",
      "_MG_4212\n"
     ]
    }
   ],
   "source": [
    "compare_image_names(test_A_dir, test_B_dir)\n"
   ],
   "metadata": {
    "collapsed": false,
    "ExecuteTime": {
     "end_time": "2024-04-19T08:11:50.512899535Z",
     "start_time": "2024-04-19T08:11:50.504346058Z"
    }
   },
   "id": "e9a57f5b51b7464d",
   "execution_count": 14
  },
  {
   "cell_type": "code",
   "outputs": [
    {
     "name": "stdout",
     "output_type": "stream",
     "text": [
      "No differences found in image names.\n"
     ]
    }
   ],
   "source": [
    "compare_image_names(train_A_dir, train_B_dir)"
   ],
   "metadata": {
    "collapsed": false,
    "ExecuteTime": {
     "end_time": "2024-04-19T08:11:52.291637704Z",
     "start_time": "2024-04-19T08:11:52.282987428Z"
    }
   },
   "id": "532f9fba1a677485",
   "execution_count": 15
  },
  {
   "cell_type": "code",
   "outputs": [
    {
     "name": "stdout",
     "output_type": "stream",
     "text": [
      "Found 30 different image names:\n",
      "IMG_6669 (in test_B)\n",
      "IMG_6308 (in test_B)\n",
      "_MG_3956 (in test_A)\n",
      "DSCF0447 (in test_B)\n",
      "IMG_6307 (in test_B)\n",
      "_MG_3118 (in test_A)\n",
      "IMG_6640 (in test_A)\n",
      "_MG_3652 (in test_A)\n",
      "DSCF0466 (in test_B)\n",
      "_MG_3299 (in test_A)\n",
      "_MG_4124 (in test_A)\n",
      "IMG_6940 (in test_A)\n",
      "IMG_6493 (in test_B)\n",
      "DSCF0288 (in test_B)\n",
      "IMG_6661 (in test_B)\n",
      "DSCF0529 (in test_B)\n",
      "IMG_6579 (in test_A)\n",
      "_MG_3254 (in test_A)\n",
      "_MG_2925 (in test_A)\n",
      "IMG_6304 (in test_B)\n",
      "IMG_6466 (in test_B)\n",
      "DSCF0456 (in test_B)\n",
      "DSCF0211 (in test_B)\n",
      "_MG_4294 (in test_A)\n",
      "_MG_4390 (in test_A)\n",
      "DSCF0463 (in test_B)\n",
      "DSCF0519 (in test_B)\n",
      "_MG_4710 (in test_A)\n",
      "_MG_4110 (in test_A)\n",
      "_MG_4212 (in test_A)\n"
     ]
    }
   ],
   "source": [
    "import os\n",
    "\n",
    "def compare_image_names(dir1, dir2):\n",
    "    # Get the list of image names in each directory (without file extensions)\n",
    "    images1 = set(os.path.splitext(image)[0] for image in os.listdir(dir1))\n",
    "    images2 = set(os.path.splitext(image)[0] for image in os.listdir(dir2))\n",
    "\n",
    "    # Find the different image names\n",
    "    different_images = images1.symmetric_difference(images2)\n",
    "\n",
    "    # Count the number of different image names\n",
    "    count = len(different_images)\n",
    "\n",
    "    # Print the different image names and their count\n",
    "    if different_images:\n",
    "        print(f\"Found {count} different image names:\")\n",
    "        for image in different_images:\n",
    "            if image in images1:\n",
    "                print(f\"{image} (in test_A)\")\n",
    "            else:\n",
    "                print(f\"{image} (in test_B)\")\n",
    "    else:\n",
    "        print(\"No differences found in image names.\")\n",
    "\n",
    "# Specify the paths to the test_A and test_B directories\n",
    "test_A_dir = \"dataset/SRD_DHAN_mask_B/test/test_A\"\n",
    "test_B_dir = \"dataset/SRD_DHAN_mask_B/test/test_B\"\n",
    "\n",
    "# Call the function to compare image names\n",
    "compare_image_names(test_A_dir, test_B_dir)"
   ],
   "metadata": {
    "collapsed": false,
    "ExecuteTime": {
     "end_time": "2024-04-24T03:00:43.206793146Z",
     "start_time": "2024-04-24T03:00:43.164143875Z"
    }
   },
   "id": "aa06746bc48054f7",
   "execution_count": 17
  },
  {
   "cell_type": "code",
   "outputs": [
    {
     "name": "stdout",
     "output_type": "stream",
     "text": [
      "No differences found in image names.\n"
     ]
    }
   ],
   "source": [
    "def compare_image_names(dir1, dir2):\n",
    "    # Get the list of image names in each directory (without file extensions)\n",
    "    images1 = set(os.path.splitext(image)[0].replace('_free', '') for image in os.listdir(dir1))\n",
    "    images2 = set(os.path.splitext(image)[0].replace('_free', '') for image in os.listdir(dir2))\n",
    "\n",
    "    # Find the different image names\n",
    "    different_images = images1.symmetric_difference(images2)\n",
    "\n",
    "    # Count the number of different image names\n",
    "    count = len(different_images)\n",
    "\n",
    "    # Print the different image names and their count\n",
    "    if different_images:\n",
    "        print(f\"Found {count} different image names:\")\n",
    "        for image in different_images:\n",
    "            if image in images1:\n",
    "                print(f\"{image} (in test_A)\")\n",
    "            else:\n",
    "                print(f\"{image} (in test_B)\")\n",
    "    else:\n",
    "        print(\"No differences found in image names.\")\n",
    "\n",
    "# Specify the paths to the test_A and test_B directories\n",
    "test_A_dir = \"dataset/SRD_DHAN_mask_B/test/test_A\"\n",
    "test_C_dir = \"dataset/SRD_DHAN_mask_B/test/test_C\"\n",
    "\n",
    "# Call the function to compare image names\n",
    "compare_image_names(test_A_dir, test_C_dir)"
   ],
   "metadata": {
    "collapsed": false,
    "ExecuteTime": {
     "end_time": "2024-04-24T03:06:52.822738341Z",
     "start_time": "2024-04-24T03:06:52.782133925Z"
    }
   },
   "id": "b2890d78bdd6c4ed",
   "execution_count": 25
  },
  {
   "cell_type": "code",
   "outputs": [
    {
     "name": "stdout",
     "output_type": "stream",
     "text": [
      "No differences found in image names.\n"
     ]
    }
   ],
   "source": [
    "old_train_A = \"dataset/SRD_DHAN_mask_old/train/train_A\"\n",
    "new_train_A = \"dataset/SRD_DHAN_mask_B/train/train_A\"\n",
    "old_train_C = \"dataset/SRD_DHAN_mask_old/train/train_C\"\n",
    "new_train_C = \"dataset/SRD_DHAN_mask_B/train/train_C\"\n",
    "old_train_B = \"dataset/SRD_DHAN_mask_old/train/train_B\"\n",
    "new_train_B = \"dataset/SRD_DHAN_mask_B/train/train_B\"\n",
    "compare_image_names(old_train_C, new_train_C)"
   ],
   "metadata": {
    "collapsed": false,
    "ExecuteTime": {
     "end_time": "2024-04-24T03:04:50.295208648Z",
     "start_time": "2024-04-24T03:04:50.252752139Z"
    }
   },
   "id": "56ab5d107ed85aa8",
   "execution_count": 24
  },
  {
   "cell_type": "code",
   "outputs": [],
   "source": [
    "old_test_A = \"dataset/SRD_DHAN_mask_old/test/test_A\"\n",
    "new_test_A = \"dataset/SRD_DHAN_mask_B/test/test_A\"\n",
    "old_test_C = \"dataset/SRD_DHAN_mask_old/test/test_C\"\n",
    "new_test_C = \"dataset/SRD_DHAN_mask_B/test/test_C\"\n",
    "old_test_B = \"dataset/SRD_DHAN_mask_old/test/test_B\"\n",
    "new_test_B = \"dataset/SRD_DHAN_mask_B/test/test_B\""
   ],
   "metadata": {
    "collapsed": false,
    "ExecuteTime": {
     "end_time": "2024-04-24T03:09:18.026667196Z",
     "start_time": "2024-04-24T03:09:17.984946026Z"
    }
   },
   "id": "b3a137e6c8b7cd97",
   "execution_count": 26
  },
  {
   "cell_type": "code",
   "outputs": [
    {
     "name": "stdout",
     "output_type": "stream",
     "text": [
      "Found 30 different image names:\n",
      "IMG_6669 (in test_A)\n",
      "IMG_6308 (in test_A)\n",
      "_MG_3956 (in test_B)\n",
      "DSCF0447 (in test_A)\n",
      "IMG_6307 (in test_A)\n",
      "_MG_3118 (in test_B)\n",
      "IMG_6640 (in test_B)\n",
      "_MG_3652 (in test_B)\n",
      "DSCF0466 (in test_A)\n",
      "_MG_3299 (in test_B)\n",
      "_MG_4124 (in test_B)\n",
      "IMG_6940 (in test_B)\n",
      "IMG_6493 (in test_A)\n",
      "DSCF0288 (in test_A)\n",
      "IMG_6661 (in test_A)\n",
      "DSCF0529 (in test_A)\n",
      "IMG_6579 (in test_B)\n",
      "_MG_3254 (in test_B)\n",
      "_MG_2925 (in test_B)\n",
      "IMG_6304 (in test_A)\n",
      "IMG_6466 (in test_A)\n",
      "DSCF0456 (in test_A)\n",
      "DSCF0211 (in test_A)\n",
      "_MG_4294 (in test_B)\n",
      "_MG_4390 (in test_B)\n",
      "DSCF0463 (in test_A)\n",
      "DSCF0519 (in test_A)\n",
      "_MG_4710 (in test_B)\n",
      "_MG_4110 (in test_B)\n",
      "_MG_4212 (in test_B)\n"
     ]
    }
   ],
   "source": [
    "compare_image_names(old_test_A, new_test_A)"
   ],
   "metadata": {
    "collapsed": false,
    "ExecuteTime": {
     "end_time": "2024-04-24T03:09:36.902529653Z",
     "start_time": "2024-04-24T03:09:36.897458892Z"
    }
   },
   "id": "d2c3a495f172ae1b",
   "execution_count": 27
  },
  {
   "cell_type": "code",
   "outputs": [],
   "source": [
    "def compare_image_names(dir1, dir2):\n",
    "    # Get the list of image names in each directory (without file extensions)\n",
    "    images1 = set(os.path.splitext(image)[0].replace('_free', '') for image in os.listdir(dir1))\n",
    "    images2 = set(os.path.splitext(image)[0].replace('_free', '') for image in os.listdir(dir2))\n",
    "\n",
    "    # Find the different image names\n",
    "    different_images = images1.symmetric_difference(images2)\n",
    "\n",
    "    # Count the number of different image names\n",
    "    count = len(different_images)\n",
    "    excude_name = []\n",
    "\n",
    "    # Print the different image names and their count\n",
    "    if different_images:\n",
    "        print(f\"Found {count} different image names:\")\n",
    "        for image in different_images:\n",
    "            if image in images1:\n",
    "                excude_name.append(image)\n",
    "                print(f\"{image} (in test_A)\")\n",
    "            else:\n",
    "                a = 1\n",
    "    else:\n",
    "        print(\"No differences found in image names.\")\n",
    "        \n",
    "    return excude_name"
   ],
   "metadata": {
    "collapsed": false,
    "ExecuteTime": {
     "end_time": "2024-04-24T03:41:37.226597017Z",
     "start_time": "2024-04-24T03:41:37.182344313Z"
    }
   },
   "id": "cb5d851299994dd9",
   "execution_count": 37
  },
  {
   "cell_type": "code",
   "outputs": [
    {
     "name": "stdout",
     "output_type": "stream",
     "text": [
      "Found 30 different image names:\n",
      "IMG_6669 (in test_A)\n",
      "IMG_6308 (in test_A)\n",
      "DSCF0447 (in test_A)\n",
      "IMG_6307 (in test_A)\n",
      "DSCF0466 (in test_A)\n",
      "IMG_6493 (in test_A)\n",
      "DSCF0288 (in test_A)\n",
      "IMG_6661 (in test_A)\n",
      "DSCF0529 (in test_A)\n",
      "IMG_6304 (in test_A)\n",
      "IMG_6466 (in test_A)\n",
      "DSCF0456 (in test_A)\n",
      "DSCF0211 (in test_A)\n",
      "DSCF0463 (in test_A)\n",
      "DSCF0519 (in test_A)\n"
     ]
    }
   ],
   "source": [
    "import re\n",
    "excude_name = compare_image_names(old_test_A, new_test_A)\n"
   ],
   "metadata": {
    "collapsed": false,
    "ExecuteTime": {
     "end_time": "2024-04-24T03:41:38.281317670Z",
     "start_time": "2024-04-24T03:41:38.279265454Z"
    }
   },
   "id": "d11abe5efd8c2f86",
   "execution_count": 38
  },
  {
   "cell_type": "code",
   "outputs": [
    {
     "name": "stdout",
     "output_type": "stream",
     "text": [
      "35.53693801639765\n",
      "393\n",
      "393\n"
     ]
    }
   ],
   "source": [
    "with open(\"./experiments_lightning/train_ShadowDiffusion/version_5_old_DHAN_mask/199/PSNR_SSIM_list.log\", \"r\") as f:\n",
    "    log_data = f.readlines()\n",
    "    \n",
    "psnr_values = []\n",
    "i= 0\n",
    "for line in log_data:\n",
    "    line = line.strip()\n",
    "    if \"_PSNR:\" in line:\n",
    "        image_name = line.split(\"_PSNR:\")[0]\n",
    "        if image_name not in excude_name:\n",
    "            i += 1\n",
    "            psnr = float(line.split(\":\")[1])\n",
    "            psnr_values.append(psnr)\n",
    "\n",
    "mean_PSNR = sum(psnr_values)/len(psnr_values)\n",
    "print(mean_PSNR)\n",
    "print(i)\n",
    "print(len(psnr_values))"
   ],
   "metadata": {
    "collapsed": false,
    "ExecuteTime": {
     "end_time": "2024-04-24T04:27:24.602767234Z",
     "start_time": "2024-04-24T04:27:24.560223574Z"
    }
   },
   "id": "7c44acf129e0accb",
   "execution_count": 42
  },
  {
   "cell_type": "code",
   "outputs": [],
   "source": [],
   "metadata": {
    "collapsed": false
   },
   "id": "9a016038645aad81",
   "execution_count": null
  },
  {
   "metadata": {},
   "cell_type": "code",
   "outputs": [],
   "execution_count": null,
   "source": "",
   "id": "8af79b08ccb408ce"
  }
 ],
 "metadata": {
  "kernelspec": {
   "display_name": "Python 3",
   "language": "python",
   "name": "python3"
  },
  "language_info": {
   "codemirror_mode": {
    "name": "ipython",
    "version": 2
   },
   "file_extension": ".py",
   "mimetype": "text/x-python",
   "name": "python",
   "nbconvert_exporter": "python",
   "pygments_lexer": "ipython2",
   "version": "2.7.6"
  }
 },
 "nbformat": 4,
 "nbformat_minor": 5
}
